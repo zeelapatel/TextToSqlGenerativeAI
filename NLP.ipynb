{
  "nbformat": 4,
  "nbformat_minor": 0,
  "metadata": {
    "colab": {
      "provenance": []
    },
    "kernelspec": {
      "name": "python3",
      "display_name": "Python 3"
    },
    "language_info": {
      "name": "python"
    }
  },
  "cells": [
    {
      "cell_type": "code",
      "execution_count": 1,
      "metadata": {
        "id": "DdMCafQdXRPG"
      },
      "outputs": [],
      "source": [
        "import nltk\n",
        "from nltk.tokenize import word_tokenize\n",
        "from nltk.tag import pos_tag\n",
        "from nltk.chunk import ne_chunk\n",
        "import spacy"
      ]
    },
    {
      "cell_type": "code",
      "source": [
        "nltk.download('punkt')\n",
        "nltk.download('averaged_perceptron_tagger')\n",
        "nltk.download('maxent_ne_chunker')\n",
        "nltk.download('words')\n"
      ],
      "metadata": {
        "colab": {
          "base_uri": "https://localhost:8080/"
        },
        "id": "GLyn8piaXatu",
        "outputId": "eea358bd-57a2-4859-8153-710447b24fe1"
      },
      "execution_count": 3,
      "outputs": [
        {
          "output_type": "stream",
          "name": "stderr",
          "text": [
            "[nltk_data] Downloading package punkt to /root/nltk_data...\n",
            "[nltk_data]   Unzipping tokenizers/punkt.zip.\n",
            "[nltk_data] Downloading package averaged_perceptron_tagger to\n",
            "[nltk_data]     /root/nltk_data...\n",
            "[nltk_data]   Unzipping taggers/averaged_perceptron_tagger.zip.\n",
            "[nltk_data] Downloading package maxent_ne_chunker to\n",
            "[nltk_data]     /root/nltk_data...\n",
            "[nltk_data]   Unzipping chunkers/maxent_ne_chunker.zip.\n",
            "[nltk_data] Downloading package words to /root/nltk_data...\n",
            "[nltk_data]   Unzipping corpora/words.zip.\n"
          ]
        },
        {
          "output_type": "execute_result",
          "data": {
            "text/plain": [
              "True"
            ]
          },
          "metadata": {},
          "execution_count": 3
        }
      ]
    },
    {
      "cell_type": "code",
      "source": [
        "nlp = spacy.load(\"en_core_web_sm\")\n"
      ],
      "metadata": {
        "id": "qo0GVKBeXbPc"
      },
      "execution_count": 4,
      "outputs": []
    },
    {
      "cell_type": "code",
      "source": [
        "def extract_entities(text):\n",
        "    # Tokenize and perform named entity recognition\n",
        "    tokens = word_tokenize(text)\n",
        "    pos_tags = pos_tag(tokens)\n",
        "    named_entities = ne_chunk(pos_tags)\n",
        "\n",
        "    # Extract relevant entities\n",
        "    entities = {}\n",
        "    for chunk in named_entities:\n",
        "        if hasattr(chunk, 'label'):\n",
        "            entity_type = chunk.label()\n",
        "            entity_value = ' '.join(c[0] for c in chunk)\n",
        "            entities[entity_type] = entity_value\n",
        "\n",
        "    return entities"
      ],
      "metadata": {
        "id": "s6dr_DwCXep8"
      },
      "execution_count": 5,
      "outputs": []
    },
    {
      "cell_type": "code",
      "source": [
        "def identify_intent(text):\n",
        "    # Use spaCy for intent classification\n",
        "    doc = nlp(text)\n",
        "\n",
        "    # Simple rule-based intent classification\n",
        "    if any(token.lemma_ in [\"show\", \"display\", \"list\"] for token in doc):\n",
        "        return \"SELECT\"\n",
        "    elif any(token.lemma_ in [\"update\", \"change\", \"modify\"] for token in doc):\n",
        "        return \"UPDATE\"\n",
        "    elif any(token.lemma_ in [\"add\", \"insert\", \"create\"] for token in doc):\n",
        "        return \"INSERT\"\n",
        "    elif any(token.lemma_ in [\"delete\", \"remove\"] for token in doc):\n",
        "        return \"DELETE\"\n",
        "    else:\n",
        "        return \"UNKNOWN\""
      ],
      "metadata": {
        "id": "AtRYHKuyXh-k"
      },
      "execution_count": 6,
      "outputs": []
    },
    {
      "cell_type": "code",
      "source": [
        "def generate_sql_query(text):\n",
        "    entities = extract_entities(text)\n",
        "    intent = identify_intent(text)\n",
        "\n",
        "    # Simple query generation based on intent and entities\n",
        "    if intent == \"SELECT\":\n",
        "        table_name = entities.get(\"GPE\", \"table_name\")  # Assuming GPE (Geo-Political Entity) as table name\n",
        "        return f\"SELECT * FROM {table_name};\"\n",
        "    elif intent == \"UPDATE\":\n",
        "        table_name = entities.get(\"GPE\", \"table_name\")\n",
        "        return f\"UPDATE {table_name} SET column = value WHERE condition;\"\n",
        "    elif intent == \"INSERT\":\n",
        "        table_name = entities.get(\"GPE\", \"table_name\")\n",
        "        return f\"INSERT INTO {table_name} (column1, column2) VALUES (value1, value2);\"\n",
        "    elif intent == \"DELETE\":\n",
        "        table_name = entities.get(\"GPE\", \"table_name\")\n",
        "        return f\"DELETE FROM {table_name} WHERE condition;\"\n",
        "    else:\n",
        "        return \"Unable to generate SQL query.\"\n"
      ],
      "metadata": {
        "id": "1F7dDyEzXt7V"
      },
      "execution_count": 8,
      "outputs": []
    },
    {
      "cell_type": "code",
      "source": [
        "text = \"Show all cases in Beijing\"\n",
        "sql_query = generate_sql_query(text)\n",
        "print(sql_query)"
      ],
      "metadata": {
        "colab": {
          "base_uri": "https://localhost:8080/"
        },
        "id": "rKgcYTqHXkOl",
        "outputId": "e8edd333-9efb-45d9-ddf5-af06238a8706"
      },
      "execution_count": 9,
      "outputs": [
        {
          "output_type": "stream",
          "name": "stdout",
          "text": [
            "SELECT * FROM Beijing;\n"
          ]
        }
      ]
    },
    {
      "cell_type": "code",
      "source": [],
      "metadata": {
        "id": "uIAzDQWVXo8c"
      },
      "execution_count": null,
      "outputs": []
    }
  ]
}